{
 "cells": [
  {
   "cell_type": "code",
   "execution_count": 1,
   "id": "7640f12e",
   "metadata": {},
   "outputs": [],
   "source": [
    "import os\n",
    "import pandas as pd\n",
    "import faiss\n",
    "import pickle\n",
    "from sentence_transformers import SentenceTransformer\n",
    "import openai\n",
    "import numpy as np\n"
   ]
  },
  {
   "cell_type": "code",
   "execution_count": 2,
   "id": "124377b2",
   "metadata": {},
   "outputs": [],
   "source": [
    "df = pd.read_excel(\"행정안전부_민원안내정보_20250327.xlsx\")"
   ]
  },
  {
   "cell_type": "code",
   "execution_count": null,
   "id": "0f674c97",
   "metadata": {},
   "outputs": [
    {
     "name": "stdout",
     "output_type": "stream",
     "text": [
      "청크:\n",
      " '토지임야대장등본교부 다량신청'은 토지임야대장등본교부 민원에 대하여 여러 번지를 한번에 신청할 수 있는 민원입니다.\n",
      "\n",
      "메타데이터:\n",
      " {'사무명': '토지임야대장등본교부 다량신청', '소관부처': '국토교통부', '담당부서': '공간정보제도과', '원문': '[사무명] 토지임야대장등본교부 다량신청\\n[사무개요] 토지임야대장등본교부 민원에 대하여 여러 번지를 한번에 신청할 수 있는 민원입니다.\\n[신청유형] 교부\\n[신청자 자격] 누구나신청가능\\n[소관부처] 국토교통부\\n[담당부서] 공간정보제도과\\n[접수방법] 인터넷'}\n"
     ]
    }
   ],
   "source": [
    "documents = []\n",
    "metadatas = []\n",
    "\n",
    "for idx, row in df.iterrows():\n",
    "    chunk = f\"'{row['사무명']}'은 {row['사무개요']}\"\n",
    "\n",
    "    documents.append(chunk)\n",
    "    metadatas.append({\n",
    "    \"사무명\": row[\"사무명\"],\n",
    "    \"소관부처\": row[\"소관부처\"],\n",
    "    \"담당부서\": row[\"담당부서\"],\n",
    "    \"원문\": \"\\n\".join([f\"[{col}] {row[col]}\" for col in df.columns[1:] if pd.notna(row[col])])\n",
    "})\n",
    "\n",
    "## 테스트용입니다!\n",
    "print(\"청크:\\n\", documents[0])\n",
    "print(\"\\n메타데이터:\\n\", metadatas[0])\n"
   ]
  },
  {
   "cell_type": "code",
   "execution_count": 4,
   "id": "daaa466f",
   "metadata": {},
   "outputs": [],
   "source": [
    "# # 임베딩 생성\n",
    "model = SentenceTransformer(\"EmbeddingModelFinetuning\")"
   ]
  },
  {
   "cell_type": "code",
   "execution_count": 8,
   "id": "2008fea4",
   "metadata": {},
   "outputs": [
    {
     "data": {
      "application/vnd.jupyter.widget-view+json": {
       "model_id": "90a5b0404b81434f92e5f7a97be5d8f5",
       "version_major": 2,
       "version_minor": 0
      },
      "text/plain": [
       "Batches:   0%|          | 0/189 [00:00<?, ?it/s]"
      ]
     },
     "metadata": {},
     "output_type": "display_data"
    }
   ],
   "source": [
    "embeddings = model.encode(documents, show_progress_bar=True)\n",
    "\n",
    "# # FAISS 저장\n",
    "index = faiss.IndexFlatL2(embeddings.shape[1])\n",
    "index.add(embeddings)\n",
    "\n",
    "# # 인덱스와 메타데이터 저장\n",
    "faiss.write_index(index, \"rag_index.faiss\")\n",
    "with open(\"rag_metadata.pkl\", \"wb\") as f:\n",
    "    pickle.dump((documents, metadatas), f)"
   ]
  }
 ],
 "metadata": {
  "kernelspec": {
   "display_name": "Python 3",
   "language": "python",
   "name": "python3"
  },
  "language_info": {
   "codemirror_mode": {
    "name": "ipython",
    "version": 3
   },
   "file_extension": ".py",
   "mimetype": "text/x-python",
   "name": "python",
   "nbconvert_exporter": "python",
   "pygments_lexer": "ipython3",
   "version": "3.9.1"
  }
 },
 "nbformat": 4,
 "nbformat_minor": 5
}
